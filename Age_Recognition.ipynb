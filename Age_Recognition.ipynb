{
  "nbformat": 4,
  "nbformat_minor": 0,
  "metadata": {
    "colab": {
      "name": "Age_Recognition.ipynb",
      "provenance": [],
      "mount_file_id": "1xj5VjthnQ31757UPfaCOEF1q_4v9anxl",
      "authorship_tag": "ABX9TyPxVRL9nLn4jrGnkJJiVPbR",
      "include_colab_link": true
    },
    "kernelspec": {
      "name": "python3",
      "display_name": "Python 3"
    },
    "language_info": {
      "name": "python"
    },
    "accelerator": "GPU"
  },
  "cells": [
    {
      "cell_type": "markdown",
      "metadata": {
        "id": "view-in-github",
        "colab_type": "text"
      },
      "source": [
        "<a href=\"https://colab.research.google.com/github/Void-Brain70/Deep_Learning/blob/main/Age_Recognition.ipynb\" target=\"_parent\"><img src=\"https://colab.research.google.com/assets/colab-badge.svg\" alt=\"Open In Colab\"/></a>"
      ]
    },
    {
      "cell_type": "code",
      "metadata": {
        "colab": {
          "base_uri": "https://localhost:8080/"
        },
        "id": "JcVl6EScyeqg",
        "outputId": "3b869760-9382-4fe6-bddc-f3ffd3b0012e"
      },
      "source": [
        "import numpy as np\n",
        "import pandas as pd\n",
        "import tensorflow\n",
        "from tensorflow.keras.preprocessing.image import ImageDataGenerator \n",
        "from tensorflow.keras.models import Sequential, save_model, load_model\n",
        "from tensorflow.keras.layers import Conv2D, MaxPooling2D \n",
        "from tensorflow.keras.layers import Activation, Dropout, Flatten, Dense,BatchNormalization\n",
        "import numpy as np\n",
        "from tensorflow.keras.callbacks import TensorBoard\n",
        "import time\n",
        "import matplotlib.pyplot as plt\n",
        "import datetime\n",
        "import cv2\n",
        "import os\n",
        "import tensorflow as tf\n",
        "import tensorflow.keras\n",
        "import cv2\n",
        "from sklearn.model_selection import train_test_split\n",
        "import matplotlib.pyplot as plt\n",
        "from sklearn.metrics import confusion_matrix\n",
        "import seaborn as sns\n",
        "import matplotlib.pyplot as plt\n",
        "from sklearn.metrics import classification_report\n",
        "print('tf version', tf.__version__)\n",
        "print('keras version', tf.keras.__version__)\n",
        "print('gpu is ','available' if tf.config.list_physical_devices('GPU') else 'not available')"
      ],
      "execution_count": 1,
      "outputs": [
        {
          "output_type": "stream",
          "text": [
            "tf version 2.5.0\n",
            "keras version 2.5.0\n",
            "gpu is  available\n"
          ],
          "name": "stdout"
        }
      ]
    },
    {
      "cell_type": "code",
      "metadata": {
        "id": "D8q6o_HIzKmD"
      },
      "source": [
        "subdir = ['25-30','42-48','60-98','6-20']\n",
        "path = '/kaggle/input/age-recognition-dataset/Dataset/'\n",
        "\n",
        "target_name = {'25-30': 0, '42-48': 1, '60-98': 2, '6-20': 3}\n",
        "X, y = [], []\n",
        "for age in subdir:\n",
        "    for img_name in os.listdir(path+age):\n",
        "        img = cv2.imread(path+age+'/'+img_name)\n",
        "        scalled_raw_img = cv2.resize(img, (80, 80))/255.0\n",
        "        X.append(scalled_raw_img)\n",
        "        y.append(target_name[age])"
      ],
      "execution_count": null,
      "outputs": []
    },
    {
      "cell_type": "code",
      "metadata": {
        "id": "SbpMLY1YiKL8"
      },
      "source": [
        ""
      ],
      "execution_count": null,
      "outputs": []
    }
  ]
}