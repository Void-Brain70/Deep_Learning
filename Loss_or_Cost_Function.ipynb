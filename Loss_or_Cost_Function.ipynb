{
  "nbformat": 4,
  "nbformat_minor": 0,
  "metadata": {
    "colab": {
      "name": "Loss_or_Cost_Function.ipynb",
      "provenance": [],
      "collapsed_sections": [],
      "authorship_tag": "ABX9TyMnd8xTxAloXbQc1AZdGUL8",
      "include_colab_link": true
    },
    "kernelspec": {
      "name": "python3",
      "display_name": "Python 3"
    },
    "language_info": {
      "name": "python"
    }
  },
  "cells": [
    {
      "cell_type": "markdown",
      "metadata": {
        "id": "view-in-github",
        "colab_type": "text"
      },
      "source": [
        "<a href=\"https://colab.research.google.com/github/Void-Brain70/Deep_Learning/blob/main/Loss_or_Cost_Function.ipynb\" target=\"_parent\"><img src=\"https://colab.research.google.com/assets/colab-badge.svg\" alt=\"Open In Colab\"/></a>"
      ]
    },
    {
      "cell_type": "markdown",
      "metadata": {
        "id": "73vXIQ2q8VHE"
      },
      "source": [
        "Mean Absloute Error"
      ]
    },
    {
      "cell_type": "code",
      "metadata": {
        "id": "7d9D8pdVwsGE"
      },
      "source": [
        "import numpy as np"
      ],
      "execution_count": 3,
      "outputs": []
    },
    {
      "cell_type": "code",
      "metadata": {
        "id": "q8h2AZ616Rr1"
      },
      "source": [
        "y_predicted = np.array([1,1,0,0,1])\n",
        "y_true = np.array([0.30,0.7,1,0,0.5])"
      ],
      "execution_count": 2,
      "outputs": []
    },
    {
      "cell_type": "code",
      "metadata": {
        "id": "m6eS0VGU6ZHb"
      },
      "source": [
        "def MAE(y_true,y_predicted):\n",
        "  total_error = 0\n",
        "  for i,j in zip(y_true,y_predicted):\n",
        "    total_error += abs(i-j)\n",
        "  print(\"Total Error: \",total_error)\n",
        "  r = total_error / len(y_true)\n",
        "  print(\"Mean Absolute Error: \",r)\n",
        "  return r  "
      ],
      "execution_count": 9,
      "outputs": []
    },
    {
      "cell_type": "code",
      "metadata": {
        "colab": {
          "base_uri": "https://localhost:8080/"
        },
        "id": "Ja8QBl0468OD",
        "outputId": "1cc734c0-a5b1-4cba-bf45-fb5afdaffd5f"
      },
      "source": [
        "MAE(y_true,y_predicted)"
      ],
      "execution_count": 10,
      "outputs": [
        {
          "output_type": "stream",
          "text": [
            "Total Error:  2.5\n",
            "Mean Absolute Error:  0.5\n"
          ],
          "name": "stdout"
        },
        {
          "output_type": "execute_result",
          "data": {
            "text/plain": [
              "0.5"
            ]
          },
          "metadata": {
            "tags": []
          },
          "execution_count": 10
        }
      ]
    },
    {
      "cell_type": "code",
      "metadata": {
        "colab": {
          "base_uri": "https://localhost:8080/"
        },
        "id": "0eXQGAn679Q-",
        "outputId": "2c318277-eaf2-40d7-e04f-8b8438c67106"
      },
      "source": [
        "np.abs(y_predicted,y_true)"
      ],
      "execution_count": 11,
      "outputs": [
        {
          "output_type": "execute_result",
          "data": {
            "text/plain": [
              "array([1., 1., 0., 0., 1.])"
            ]
          },
          "metadata": {
            "tags": []
          },
          "execution_count": 11
        }
      ]
    },
    {
      "cell_type": "code",
      "metadata": {
        "colab": {
          "base_uri": "https://localhost:8080/"
        },
        "id": "0QvQAV-f8GHb",
        "outputId": "9295172f-618d-47a7-c2ba-361c970b2f13"
      },
      "source": [
        "np.mean(np.abs(y_predicted,y_true))"
      ],
      "execution_count": 12,
      "outputs": [
        {
          "output_type": "execute_result",
          "data": {
            "text/plain": [
              "0.6"
            ]
          },
          "metadata": {
            "tags": []
          },
          "execution_count": 12
        }
      ]
    },
    {
      "cell_type": "code",
      "metadata": {
        "colab": {
          "base_uri": "https://localhost:8080/"
        },
        "id": "mdrI0irB8M3z",
        "outputId": "db8ed764-fa40-460e-e66a-e1824f79068a"
      },
      "source": [
        "np.sum(np.abs(y_predicted,y_true))"
      ],
      "execution_count": 13,
      "outputs": [
        {
          "output_type": "execute_result",
          "data": {
            "text/plain": [
              "3.0"
            ]
          },
          "metadata": {
            "tags": []
          },
          "execution_count": 13
        }
      ]
    }
  ]
}