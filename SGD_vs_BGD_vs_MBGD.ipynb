{
  "nbformat": 4,
  "nbformat_minor": 0,
  "metadata": {
    "colab": {
      "name": "SGD_vs_BGD_vs_MBGD.ipynb",
      "provenance": [],
      "collapsed_sections": [],
      "authorship_tag": "ABX9TyPoai1dLMWFFHZW3XX8U8Yo",
      "include_colab_link": true
    },
    "kernelspec": {
      "name": "python3",
      "display_name": "Python 3"
    },
    "language_info": {
      "name": "python"
    }
  },
  "cells": [
    {
      "cell_type": "markdown",
      "metadata": {
        "id": "view-in-github",
        "colab_type": "text"
      },
      "source": [
        "<a href=\"https://colab.research.google.com/github/Void-Brain70/Deep_Learning/blob/main/SGD_vs_BGD_vs_MBGD.ipynb\" target=\"_parent\"><img src=\"https://colab.research.google.com/assets/colab-badge.svg\" alt=\"Open In Colab\"/></a>"
      ]
    },
    {
      "cell_type": "code",
      "metadata": {
        "id": "JrlKP5qbtm1W"
      },
      "source": [
        "import pandas as pd\n",
        "import numpy as np\n",
        "import matplotlib.pyplot as plt\n",
        "%matplotlib inline"
      ],
      "execution_count": 2,
      "outputs": []
    },
    {
      "cell_type": "code",
      "metadata": {
        "colab": {
          "base_uri": "https://localhost:8080/",
          "height": 203
        },
        "id": "nMYZ9DsEwyAx",
        "outputId": "192f1bba-28b8-4ff2-91a6-ff9e8687e98a"
      },
      "source": [
        "df = pd.read_csv(\"/content/homeprices_banglore.csv\")\n",
        "df.sample(5)"
      ],
      "execution_count": 4,
      "outputs": [
        {
          "output_type": "execute_result",
          "data": {
            "text/html": [
              "<div>\n",
              "<style scoped>\n",
              "    .dataframe tbody tr th:only-of-type {\n",
              "        vertical-align: middle;\n",
              "    }\n",
              "\n",
              "    .dataframe tbody tr th {\n",
              "        vertical-align: top;\n",
              "    }\n",
              "\n",
              "    .dataframe thead th {\n",
              "        text-align: right;\n",
              "    }\n",
              "</style>\n",
              "<table border=\"1\" class=\"dataframe\">\n",
              "  <thead>\n",
              "    <tr style=\"text-align: right;\">\n",
              "      <th></th>\n",
              "      <th>area</th>\n",
              "      <th>bedrooms</th>\n",
              "      <th>price</th>\n",
              "    </tr>\n",
              "  </thead>\n",
              "  <tbody>\n",
              "    <tr>\n",
              "      <th>10</th>\n",
              "      <td>1800</td>\n",
              "      <td>3</td>\n",
              "      <td>82.0</td>\n",
              "    </tr>\n",
              "    <tr>\n",
              "      <th>7</th>\n",
              "      <td>3300</td>\n",
              "      <td>4</td>\n",
              "      <td>155.0</td>\n",
              "    </tr>\n",
              "    <tr>\n",
              "      <th>12</th>\n",
              "      <td>1000</td>\n",
              "      <td>2</td>\n",
              "      <td>38.0</td>\n",
              "    </tr>\n",
              "    <tr>\n",
              "      <th>13</th>\n",
              "      <td>1100</td>\n",
              "      <td>2</td>\n",
              "      <td>40.0</td>\n",
              "    </tr>\n",
              "    <tr>\n",
              "      <th>4</th>\n",
              "      <td>1200</td>\n",
              "      <td>2</td>\n",
              "      <td>51.0</td>\n",
              "    </tr>\n",
              "  </tbody>\n",
              "</table>\n",
              "</div>"
            ],
            "text/plain": [
              "    area  bedrooms  price\n",
              "10  1800         3   82.0\n",
              "7   3300         4  155.0\n",
              "12  1000         2   38.0\n",
              "13  1100         2   40.0\n",
              "4   1200         2   51.0"
            ]
          },
          "metadata": {
            "tags": []
          },
          "execution_count": 4
        }
      ]
    },
    {
      "cell_type": "code",
      "metadata": {
        "colab": {
          "base_uri": "https://localhost:8080/"
        },
        "id": "lD6Nse6uw-9Q",
        "outputId": "e7824dfe-3035-4da5-a3cc-09ee2844f6a7"
      },
      "source": [
        "from sklearn import preprocessing\n",
        "x = preprocessing.MinMaxScaler()\n",
        "y = preprocessing.MinMaxScaler()\n",
        "\n",
        "scaled_x = x.fit_transform(df.drop('price',axis='columns'))\n",
        "scaled_x"
      ],
      "execution_count": 5,
      "outputs": [
        {
          "output_type": "execute_result",
          "data": {
            "text/plain": [
              "array([[0.08827586, 0.25      ],\n",
              "       [0.62068966, 0.75      ],\n",
              "       [0.22068966, 0.5       ],\n",
              "       [0.24862069, 0.5       ],\n",
              "       [0.13793103, 0.25      ],\n",
              "       [0.12758621, 0.25      ],\n",
              "       [0.6662069 , 0.75      ],\n",
              "       [0.86206897, 0.75      ],\n",
              "       [0.17586207, 0.5       ],\n",
              "       [1.        , 1.        ],\n",
              "       [0.34482759, 0.5       ],\n",
              "       [0.68448276, 0.75      ],\n",
              "       [0.06896552, 0.25      ],\n",
              "       [0.10344828, 0.25      ],\n",
              "       [0.5       , 0.5       ],\n",
              "       [0.12931034, 0.25      ],\n",
              "       [0.13103448, 0.5       ],\n",
              "       [0.25517241, 0.5       ],\n",
              "       [0.67931034, 0.5       ],\n",
              "       [0.        , 0.        ]])"
            ]
          },
          "metadata": {
            "tags": []
          },
          "execution_count": 5
        }
      ]
    },
    {
      "cell_type": "code",
      "metadata": {
        "colab": {
          "base_uri": "https://localhost:8080/"
        },
        "id": "wuhXflFKyHCa",
        "outputId": "5d5389b6-391c-4d8b-aa33-e39a3e8e3cf4"
      },
      "source": [
        "scaled_y = y.fit_transform(df['price'].values.reshape(df.shape[0],1))\n",
        "scaled_y"
      ],
      "execution_count": 6,
      "outputs": [
        {
          "output_type": "execute_result",
          "data": {
            "text/plain": [
              "array([[0.05237037],\n",
              "       [0.65185185],\n",
              "       [0.22222222],\n",
              "       [0.31851852],\n",
              "       [0.14074074],\n",
              "       [0.04444444],\n",
              "       [0.76296296],\n",
              "       [0.91111111],\n",
              "       [0.13333333],\n",
              "       [1.        ],\n",
              "       [0.37037037],\n",
              "       [0.8       ],\n",
              "       [0.04444444],\n",
              "       [0.05925926],\n",
              "       [0.51111111],\n",
              "       [0.07407407],\n",
              "       [0.11851852],\n",
              "       [0.20740741],\n",
              "       [0.51851852],\n",
              "       [0.        ]])"
            ]
          },
          "metadata": {
            "tags": []
          },
          "execution_count": 6
        }
      ]
    },
    {
      "cell_type": "markdown",
      "metadata": {
        "id": "Bl7lr0rayYXm"
      },
      "source": [
        "**Batch Gradient Descent**\n",
        "\n",
        "\n"
      ]
    },
    {
      "cell_type": "code",
      "metadata": {
        "id": "VqIjbQa12nAg"
      },
      "source": [
        "w = np.ones(shape=(2))"
      ],
      "execution_count": 7,
      "outputs": []
    },
    {
      "cell_type": "code",
      "metadata": {
        "colab": {
          "base_uri": "https://localhost:8080/"
        },
        "id": "Ubo3at6h3YLZ",
        "outputId": "c0786392-5f31-4f02-c9f5-ec34e2f8ec6e"
      },
      "source": [
        "scaled_x.T"
      ],
      "execution_count": 8,
      "outputs": [
        {
          "output_type": "execute_result",
          "data": {
            "text/plain": [
              "array([[0.08827586, 0.62068966, 0.22068966, 0.24862069, 0.13793103,\n",
              "        0.12758621, 0.6662069 , 0.86206897, 0.17586207, 1.        ,\n",
              "        0.34482759, 0.68448276, 0.06896552, 0.10344828, 0.5       ,\n",
              "        0.12931034, 0.13103448, 0.25517241, 0.67931034, 0.        ],\n",
              "       [0.25      , 0.75      , 0.5       , 0.5       , 0.25      ,\n",
              "        0.25      , 0.75      , 0.75      , 0.5       , 1.        ,\n",
              "        0.5       , 0.75      , 0.25      , 0.25      , 0.5       ,\n",
              "        0.25      , 0.5       , 0.5       , 0.5       , 0.        ]])"
            ]
          },
          "metadata": {
            "tags": []
          },
          "execution_count": 8
        }
      ]
    },
    {
      "cell_type": "code",
      "metadata": {
        "colab": {
          "base_uri": "https://localhost:8080/"
        },
        "id": "c6KWfAJq3JMo",
        "outputId": "83483f4e-4f32-4439-8b19-7c52ad0f6514"
      },
      "source": [
        "np.dot(w,scaled_x.T)"
      ],
      "execution_count": 9,
      "outputs": [
        {
          "output_type": "execute_result",
          "data": {
            "text/plain": [
              "array([0.33827586, 1.37068966, 0.72068966, 0.74862069, 0.38793103,\n",
              "       0.37758621, 1.4162069 , 1.61206897, 0.67586207, 2.        ,\n",
              "       0.84482759, 1.43448276, 0.31896552, 0.35344828, 1.        ,\n",
              "       0.37931034, 0.63103448, 0.75517241, 1.17931034, 0.        ])"
            ]
          },
          "metadata": {
            "tags": []
          },
          "execution_count": 9
        }
      ]
    },
    {
      "cell_type": "code",
      "metadata": {
        "colab": {
          "base_uri": "https://localhost:8080/"
        },
        "id": "HKBNZWAMyY4h",
        "outputId": "7f6019f3-b52c-43ea-e449-5d5bd5554c9e"
      },
      "source": [
        "def BGD(x,y_true,epochs,learning_rate=0.01):\n",
        "  number_of_fetures = x.shape[1]\n",
        " \n",
        "  w = np.ones(shape = (number_of_fetures)) #initialized w1,w2,and bias to be 1\n",
        "  b = 0 #1\n",
        "  total_samples = x.shape[0]\n",
        "\n",
        "  cost_list = [] \n",
        "  epoch_list = []\n",
        "\n",
        "  for i in range(epochs):\n",
        "    y_pred = np.dot(w,scaled_x.T) + b # w1*area + W2*bedrooms + bias\n",
        "\n",
        "    w_grad = -(2/total_samples)*(x.T.dot(y_true-y_pred)) # d(error)/dw\n",
        "    b_grad = -(2/total_samples)*np.sum(y_true-y_pred) # d(error)/db\n",
        "    \n",
        "    w = w - learning_rate * w_grad # w = w-learning rate * d(error)/dw\n",
        "    b = b - learning_rate * b_grad # b = b-learning rate * d(error)/db\n",
        "    \n",
        "    # mean square error (error=y-y^)\n",
        "    cost = np.mean(np.square(y_true-y_pred)) \n",
        "     \n",
        "    if i%10==0:\n",
        "      cost_list.append(cost)\n",
        "      epoch_list.append(i)\n",
        "  \n",
        "  return w, b, cost, cost_list, epoch_list    \n",
        "w, b, cost, cost_list, epoch_list = BGD(scaled_x,scaled_y.reshape(scaled_y.shape[0],),500)\n",
        "w, b, cost"
      ],
      "execution_count": 10,
      "outputs": [
        {
          "output_type": "execute_result",
          "data": {
            "text/plain": [
              "(array([0.70712464, 0.67456527]), -0.23034857438407427, 0.0068641890429808105)"
            ]
          },
          "metadata": {
            "tags": []
          },
          "execution_count": 10
        }
      ]
    },
    {
      "cell_type": "code",
      "metadata": {
        "colab": {
          "base_uri": "https://localhost:8080/",
          "height": 296
        },
        "id": "kqHCbn2p5_C5",
        "outputId": "0ef9d1b0-0a4b-4b20-9530-0f9694e74513"
      },
      "source": [
        "plt.xlabel(\"epoch\")\n",
        "plt.ylabel(\"cost\")\n",
        "plt.plot(epoch_list,cost_list)"
      ],
      "execution_count": 11,
      "outputs": [
        {
          "output_type": "execute_result",
          "data": {
            "text/plain": [
              "[<matplotlib.lines.Line2D at 0x7f533fd6f4d0>]"
            ]
          },
          "metadata": {
            "tags": []
          },
          "execution_count": 11
        },
        {
          "output_type": "display_data",
          "data": {
            "image/png": "[encoded data removed]",
            "text/plain": [
              "<Figure size 432x288 with 1 Axes>"
            ]
          },
          "metadata": {
            "tags": [],
            "needs_background": "light"
          }
        }
      ]
    },
    {
      "cell_type": "code",
      "metadata": {
        "colab": {
          "base_uri": "https://localhost:8080/"
        },
        "id": "GyesOYZi08-2",
        "outputId": "304eb0e7-ea4f-467d-93b8-b6dce4866963"
      },
      "source": [
        "y.inverse_transform([[1,0.5,0]])"
      ],
      "execution_count": 15,
      "outputs": [
        {
          "output_type": "execute_result",
          "data": {
            "text/plain": [
              "array([[167. ,  99.5,  32. ]])"
            ]
          },
          "metadata": {
            "tags": []
          },
          "execution_count": 15
        }
      ]
    },
    {
      "cell_type": "code",
      "metadata": {
        "colab": {
          "base_uri": "https://localhost:8080/"
        },
        "id": "aEMv2q0r6Nn5",
        "outputId": "1c826a1a-e505-4fc1-d173-f77eec261bc8"
      },
      "source": [
        "def predict(area,bedrooms,w,b):\n",
        "  scaled_x = x.transform([[area, bedrooms]])[0]\n",
        "  scaled_price = w[0] * scaled_x[0] + w[1] * scaled_x[1] + b # \n",
        "  return y.inverse_transform([[scaled_price]])[0][0]\n",
        "\n",
        "predict(2600,4,w,b)  "
      ],
      "execution_count": 17,
      "outputs": [
        {
          "output_type": "execute_result",
          "data": {
            "text/plain": [
              "128.45484403267596"
            ]
          },
          "metadata": {
            "tags": []
          },
          "execution_count": 17
        }
      ]
    },
    {
      "cell_type": "code",
      "metadata": {
        "colab": {
          "base_uri": "https://localhost:8080/"
        },
        "id": "_UfAD7fH6lH8",
        "outputId": "e4cd52b8-a9a9-48ce-f4c0-4e144ae7baef"
      },
      "source": [
        "predict(1000,2,w,b)"
      ],
      "execution_count": 18,
      "outputs": [
        {
          "output_type": "execute_result",
          "data": {
            "text/plain": [
              "30.253094462442355"
            ]
          },
          "metadata": {
            "tags": []
          },
          "execution_count": 18
        }
      ]
    },
    {
      "cell_type": "markdown",
      "metadata": {
        "id": "-JrP873e75t5"
      },
      "source": [
        "**Stochastic Gradient Descent**"
      ]
    },
    {
      "cell_type": "code",
      "metadata": {
        "colab": {
          "base_uri": "https://localhost:8080/"
        },
        "id": "rRhT87Fm70XZ",
        "outputId": "a19f864a-364a-4984-c2dc-1c5ac054744d"
      },
      "source": [
        "import random\n",
        "random.randint(0,6)"
      ],
      "execution_count": 19,
      "outputs": [
        {
          "output_type": "execute_result",
          "data": {
            "text/plain": [
              "2"
            ]
          },
          "metadata": {
            "tags": []
          },
          "execution_count": 19
        }
      ]
    },
    {
      "cell_type": "code",
      "metadata": {
        "colab": {
          "base_uri": "https://localhost:8080/"
        },
        "id": "CkC6ILRY8BlZ",
        "outputId": "daa14a37-3ef4-4ad9-c071-f3533f0b4a28"
      },
      "source": [
        "def SGD(x,y_true,epochs,learning_rate=0.01):\n",
        "  number_of_fetures = x.shape[1]\n",
        "\n",
        "  w = np.ones(shape = (number_of_fetures))\n",
        "  b = 0\n",
        "  total_samples = x.shape[0]\n",
        "\n",
        "  cost_list = []\n",
        "  epoch_list = []\n",
        "\n",
        "  for i in range(epochs):\n",
        "    random_index = random.randint(0,total_samples-1)\n",
        "    \n",
        "    sample_x = x[random_index]\n",
        "    sample_y = y_true[random_index]\n",
        "        \n",
        "    y_pred = np.dot(w, sample_x.T) + b\n",
        "    \n",
        "    w_grad = -(2/total_samples)*(sample_x.T.dot(sample_y-y_pred))\n",
        "    b_grad = -(2/total_samples)*(sample_y-y_pred)\n",
        "        \n",
        "    w = w - learning_rate * w_grad\n",
        "    b = b - learning_rate * b_grad\n",
        "        \n",
        "    cost = np.square(sample_y-y_pred)\n",
        "\n",
        "    if i%100 ==0:\n",
        "      cost_list.append(cost)\n",
        "      epoch_list.append(i)\n",
        "        \n",
        "  return w, b, cost, cost_list, epoch_list\n",
        "\n",
        "w_sgd, b_sgd, cost_sgd, cost_list_sgd, epoch_list_sgd = SGD(scaled_x,scaled_y.reshape(scaled_y.shape[0],),10000)\n",
        "w_sgd, b_sgd, cost_sgd  "
      ],
      "execution_count": 20,
      "outputs": [
        {
          "output_type": "execute_result",
          "data": {
            "text/plain": [
              "(array([0.71068784, 0.67699972]), -0.23123114652295232, 0.005133783123561212)"
            ]
          },
          "metadata": {
            "tags": []
          },
          "execution_count": 20
        }
      ]
    },
    {
      "cell_type": "code",
      "metadata": {
        "colab": {
          "base_uri": "https://localhost:8080/"
        },
        "id": "IVtY3IA487e0",
        "outputId": "7183fa48-6c4c-4c4e-fe96-c2aa3325b6a9"
      },
      "source": [
        "w , b , cost"
      ],
      "execution_count": 21,
      "outputs": [
        {
          "output_type": "execute_result",
          "data": {
            "text/plain": [
              "(array([0.70712464, 0.67456527]), -0.23034857438407427, 0.0068641890429808105)"
            ]
          },
          "metadata": {
            "tags": []
          },
          "execution_count": 21
        }
      ]
    },
    {
      "cell_type": "code",
      "metadata": {
        "colab": {
          "base_uri": "https://localhost:8080/",
          "height": 296
        },
        "id": "1Nxva5yg8-HS",
        "outputId": "3909e311-4b82-4748-f478-1807ab3435ee"
      },
      "source": [
        "plt.xlabel(\"epoch\")\n",
        "plt.ylabel(\"cost\")\n",
        "plt.plot(epoch_list_sgd,cost_list_sgd)"
      ],
      "execution_count": 22,
      "outputs": [
        {
          "output_type": "execute_result",
          "data": {
            "text/plain": [
              "[<matplotlib.lines.Line2D at 0x7f5307682cd0>]"
            ]
          },
          "metadata": {
            "tags": []
          },
          "execution_count": 22
        },
        {
          "output_type": "display_data",
          "data": {
            "image/png": "[encoded data removed]",
            "text/plain": [
              "<Figure size 432x288 with 1 Axes>"
            ]
          },
          "metadata": {
            "tags": [],
            "needs_background": "light"
          }
        }
      ]
    },
    {
      "cell_type": "code",
      "metadata": {
        "colab": {
          "base_uri": "https://localhost:8080/"
        },
        "id": "RGZ2m_MS9DBx",
        "outputId": "a6e13267-566b-4d6b-e1c4-14612c6ec3bf"
      },
      "source": [
        "predict(2600,4,w_sgd, b_sgd)"
      ],
      "execution_count": null,
      "outputs": [
        {
          "output_type": "execute_result",
          "data": {
            "text/plain": [
              "128.72071484229033"
            ]
          },
          "metadata": {
            "tags": []
          },
          "execution_count": 22
        }
      ]
    },
    {
      "cell_type": "code",
      "metadata": {
        "colab": {
          "base_uri": "https://localhost:8080/"
        },
        "id": "MyObVY2m9F2F",
        "outputId": "c57c558e-65d3-4442-8e66-4272251adfa7"
      },
      "source": [
        "predict(1000,2,w_sgd, b_sgd)"
      ],
      "execution_count": null,
      "outputs": [
        {
          "output_type": "execute_result",
          "data": {
            "text/plain": [
              "29.990361562749076"
            ]
          },
          "metadata": {
            "tags": []
          },
          "execution_count": 23
        }
      ]
    },
    {
      "cell_type": "markdown",
      "metadata": {
        "id": "ZjR4pKRV9-Np"
      },
      "source": [
        "**Mini Batch Gradient Descent**"
      ]
    },
    {
      "cell_type": "code",
      "metadata": {
        "colab": {
          "base_uri": "https://localhost:8080/"
        },
        "id": "tHnOJHU1-FIB",
        "outputId": "05bedba4-c54c-49b3-fbef-56608c273b13"
      },
      "source": [
        "np.random.permutation(20)"
      ],
      "execution_count": null,
      "outputs": [
        {
          "output_type": "execute_result",
          "data": {
            "text/plain": [
              "array([ 2, 10,  3, 12,  5,  7,  8,  1, 14, 11, 15,  4,  9, 13,  0, 17,  6,\n",
              "       19, 18, 16])"
            ]
          },
          "metadata": {
            "tags": []
          },
          "execution_count": 24
        }
      ]
    },
    {
      "cell_type": "code",
      "metadata": {
        "colab": {
          "base_uri": "https://localhost:8080/"
        },
        "id": "BvqRJ3Rt-LeA",
        "outputId": "f5253a90-99e2-40ae-9ad4-27505b72948a"
      },
      "source": [
        "def MBGD(x, y_true, epochs = 100, batch_size = 5, learning_rate = 0.01):\n",
        "  number_of_features = x.shape[1]\n",
        "  w = np.ones(shape=(number_of_features)) \n",
        "  b = 0\n",
        "  total_samples = x.shape[0]\n",
        "\n",
        "  if batch_size > total_samples:\n",
        "    batch_size = total_samples\n",
        "\n",
        "  cost_list = []\n",
        "  epoch_list = []\n",
        "    \n",
        "  num_batches = int(total_samples/batch_size)\n",
        "\n",
        "  for i in range(epochs):    \n",
        "    random_indices = np.random.permutation(total_samples)\n",
        "    x_tmp = x[random_indices]\n",
        "    y_tmp = y_true[random_indices]\n",
        "        \n",
        "    for j in range(0,total_samples,batch_size):\n",
        "      xj = x_tmp[j:j+batch_size]\n",
        "      yj = y_tmp[j:j+batch_size]\n",
        "      y_pred = np.dot(w, xj.T) + b\n",
        "            \n",
        "      w_grad = -(2/len(xj))*(xj.T.dot(yj-y_pred))\n",
        "      b_grad = -(2/len(xj))*np.sum(yj-y_pred)\n",
        "            \n",
        "      w = w - learning_rate * w_grad\n",
        "      b = b - learning_rate * b_grad\n",
        "                \n",
        "      cost = np.mean(np.square(yj-y_pred))\n",
        "    if i%10==0:\n",
        "      cost_list.append(cost)\n",
        "      epoch_list.append(i)\n",
        "        \n",
        "  return w, b, cost, cost_list, epoch_list\n",
        "\n",
        "w, b, cost, cost_list, epoch_list = MBGD(\n",
        "    scaled_x,\n",
        "    scaled_y.reshape(scaled_y.shape[0],),\n",
        "    epochs = 120,\n",
        "    batch_size = 5\n",
        ")\n",
        "w, b, cost  "
      ],
      "execution_count": null,
      "outputs": [
        {
          "output_type": "execute_result",
          "data": {
            "text/plain": [
              "(array([0.71004528, 0.67810438]), -0.23344828371697257, 0.012847163708813208)"
            ]
          },
          "metadata": {
            "tags": []
          },
          "execution_count": 28
        }
      ]
    },
    {
      "cell_type": "code",
      "metadata": {
        "colab": {
          "base_uri": "https://localhost:8080/",
          "height": 296
        },
        "id": "9Y7lAtFb_q75",
        "outputId": "044bfe23-a857-4ba3-dc71-0e98cde4a094"
      },
      "source": [
        "plt.xlabel(\"epoch\")\n",
        "plt.ylabel(\"cost\")\n",
        "plt.plot(epoch_list,cost_list)"
      ],
      "execution_count": null,
      "outputs": [
        {
          "output_type": "execute_result",
          "data": {
            "text/plain": [
              "[<matplotlib.lines.Line2D at 0x7f77bcc95d90>]"
            ]
          },
          "metadata": {
            "tags": []
          },
          "execution_count": 29
        },
        {
          "output_type": "display_data",
          "data": {
            "image/png": "[encoded data removed]",
            "text/plain": [
              "<Figure size 432x288 with 1 Axes>"
            ]
          },
          "metadata": {
            "tags": [],
            "needs_background": "light"
          }
        }
      ]
    },
    {
      "cell_type": "code",
      "metadata": {
        "colab": {
          "base_uri": "https://localhost:8080/"
        },
        "id": "UhBzH3El_xFC",
        "outputId": "0e1ab71b-65c4-477e-d124-37c3f627be7c"
      },
      "source": [
        "def predict(area,bedrooms,w,b):\n",
        "    scaled_x = x.transform([[area, bedrooms]])[0]\n",
        "    scaled_price = w[0] * scaled_x[0] + w[1] * scaled_x[1] + b\n",
        "    return y.inverse_transform([[scaled_price]])[0][0]\n",
        "\n",
        "predict(2600,4,w,b)    "
      ],
      "execution_count": null,
      "outputs": [
        {
          "output_type": "execute_result",
          "data": {
            "text/plain": [
              "128.63944787357934"
            ]
          },
          "metadata": {
            "tags": []
          },
          "execution_count": 31
        }
      ]
    }
  ]
}